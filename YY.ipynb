{
  "metadata": {
    "language_info": {
      "codemirror_mode": {
        "name": "python",
        "version": 3
      },
      "file_extension": ".py",
      "mimetype": "text/x-python",
      "name": "python",
      "nbconvert_exporter": "python",
      "pygments_lexer": "ipython3",
      "version": "3.8"
    },
    "kernelspec": {
      "name": "python",
      "display_name": "Pyolite",
      "language": "python"
    }
  },
  "nbformat_minor": 4,
  "nbformat": 4,
  "cells": [
    {
      "cell_type": "markdown",
      "source": "# My Jupyter Notebook on IBM Watson Studio. This is my title",
      "metadata": {}
    },
    {
      "cell_type": "markdown",
      "source": "Hello, this is the introduction cell in this notebook.",
      "metadata": {}
    },
    {
      "cell_type": "markdown",
      "source": "Some of the popular languges data scientists use:\n1. Python\n2. R\n3. Java\n4. SQL\n5. Julia\n6. Scala\n7. C/C++\n8. JavaScript\n9. Swift\n10. Go\n11. MATLAB\n12. SAS",
      "metadata": {}
    },
    {
      "cell_type": "markdown",
      "source": "List of data science libraries:\n1. TensorFlow\n2.  NumPy\n3. SciPy \n4. Pandas\n5. Matplotlib \n6. Keras\n7. SciKit-Learn\n8. PyTorch\n9. Scrapy\n10. BeautifulSoup\n11. LightGBM",
      "metadata": {}
    },
    {
      "cell_type": "markdown",
      "source": "### Table for Data Science tools\n\n| Tool | Description |\n| -------------| ------ |\n| MS Excel | General Purpose tool |\n| BigML | Cloud based tool |\n| Google Analytics | Professional data science framework |\n| Apache Spark | Professional tool |\n| Matlab | closed source tool|",
      "metadata": {}
    },
    {
      "cell_type": "markdown",
      "source": "### Below are examples of arythmetic operations in Python:",
      "metadata": {}
    },
    {
      "cell_type": "code",
      "source": "#Ariphmetic example:\na = 12\nb = 5\nprint(a+b)",
      "metadata": {
        "trusted": true
      },
      "execution_count": 1,
      "outputs": [
        {
          "name": "stdout",
          "text": "17\n",
          "output_type": "stream"
        }
      ]
    },
    {
      "cell_type": "code",
      "source": "#Multiply/add numbers example:\na = 2\nb = 6\nprint(a+b*a*b)",
      "metadata": {
        "trusted": true
      },
      "execution_count": 2,
      "outputs": [
        {
          "name": "stdout",
          "text": "74\n",
          "output_type": "stream"
        }
      ]
    },
    {
      "cell_type": "code",
      "source": "#Minutes to hours\nminute = 200\n\nhours = minute / 60\nprint(hours)",
      "metadata": {
        "trusted": true
      },
      "execution_count": 7,
      "outputs": [
        {
          "name": "stdout",
          "text": "3.3333333333333335\n",
          "output_type": "stream"
        }
      ]
    },
    {
      "cell_type": "markdown",
      "source": "**Objectives:**\n- Add comments to code\n- I want to learn Python\n- R would be good too\n- Julia (as it is close to my name)",
      "metadata": {}
    },
    {
      "cell_type": "markdown",
      "source": "**Author(s)**\n\n#Yuliya Yunayeva  ",
      "metadata": {}
    },
    {
      "cell_type": "markdown",
      "source": "<img src=\"https://thumbs.dreamstime.com/z/thank-you-heart-smile-emoji-wooden-bokeh-light-background-125814550.jpg\">",
      "metadata": {}
    },
    {
      "cell_type": "code",
      "source": "",
      "metadata": {},
      "execution_count": null,
      "outputs": []
    }
  ]
}