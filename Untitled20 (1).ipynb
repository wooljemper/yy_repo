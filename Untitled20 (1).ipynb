{
  "metadata": {
    "language_info": {
      "codemirror_mode": {
        "name": "python",
        "version": 3
      },
      "file_extension": ".py",
      "mimetype": "text/x-python",
      "name": "python",
      "nbconvert_exporter": "python",
      "pygments_lexer": "ipython3",
      "version": "3.8"
    },
    "kernelspec": {
      "name": "python",
      "display_name": "Pyolite",
      "language": "python"
    }
  },
  "nbformat_minor": 4,
  "nbformat": 4,
  "cells": [
    {
      "cell_type": "markdown",
      "source": "# My Jupyter Notebook on IBM Watson Studio. This is my title",
      "metadata": {}
    },
    {
      "cell_type": "markdown",
      "source": "#### Hello, this is the introduction cell. \n",
      "metadata": {}
    },
    {
      "cell_type": "markdown",
      "source": "#### List of data science languages:\n- Python\n- R\n- Java\n- SQL\n- Julia\n- Scala\n- C/C++\n- JavaScript\n- Swift\n- Go\n- MATLAB\n- SAS",
      "metadata": {}
    },
    {
      "cell_type": "markdown",
      "source": "##### List of data science libraries:\n- TensorFlow\n- NumPy\n- SciPy \n- Pandas\n- Matplotlib \n- Keras\n- SciKit-Learn\n- PyTorch\n- Scrapy\n- BeautifulSoup\n- LightGBM\n- ELI5\n- Theano\n- NuPIC\n- Ramp\n",
      "metadata": {}
    },
    {
      "cell_type": "markdown",
      "source": "### Table for Data Science tools\n\n| Tool | Description |\n| -------------| ------ |\n| MS Excel | General Purpose tool |\n| BigML | Cloud based tool |\n| Google Analytics | Professional data science framework |\n| Apache Spark | Professional tool |\n| Matlab | closed source tool|",
      "metadata": {}
    },
    {
      "cell_type": "code",
      "source": "#Ariphmetic example:\na = 2\nb = 6\nprint(a+b)",
      "metadata": {
        "trusted": true
      },
      "execution_count": 5,
      "outputs": [
        {
          "name": "stdout",
          "text": "8\n",
          "output_type": "stream"
        }
      ]
    },
    {
      "cell_type": "code",
      "source": "#Multiply/add numbers example:\na = 2\nb = 6\nprint(a+b*a*b)",
      "metadata": {
        "trusted": true
      },
      "execution_count": 8,
      "outputs": [
        {
          "name": "stdout",
          "text": "74\n",
          "output_type": "stream"
        }
      ]
    },
    {
      "cell_type": "code",
      "source": "minute = int(input(\"Enter your minutes\"))\nhour = int(input(\"Enter your hours\"))\n\ntime = hour / 60\nprint(time)",
      "metadata": {},
      "execution_count": null,
      "outputs": []
    },
    {
      "cell_type": "code",
      "source": "#### Objectives:\n- I want to learn Python\n- R would be good too\n- Julia (as it is close to my name)",
      "metadata": {},
      "execution_count": null,
      "outputs": []
    },
    {
      "cell_type": "code",
      "source": "Hello, my name is **Yuliya Yunayeva.**  \nI work as a senior system analyst.",
      "metadata": {},
      "execution_count": null,
      "outputs": []
    },
    {
      "cell_type": "markdown",
      "source": "\n<img src=\"https://thumbs.dreamstime.com/z/thank-you-heart-smile-emoji-wooden-bokeh-light-background-125814550.jpg\">\n",
      "metadata": {}
    },
    {
      "cell_type": "code",
      "source": "",
      "metadata": {},
      "execution_count": null,
      "outputs": []
    }
  ]
}