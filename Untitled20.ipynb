{
  "metadata": {
    "language_info": {
      "codemirror_mode": {
        "name": "python",
        "version": 3
      },
      "file_extension": ".py",
      "mimetype": "text/x-python",
      "name": "python",
      "nbconvert_exporter": "python",
      "pygments_lexer": "ipython3",
      "version": "3.8"
    },
    "kernelspec": {
      "name": "python",
      "display_name": "Pyolite",
      "language": "python"
    }
  },
  "nbformat_minor": 4,
  "nbformat": 4,
  "cells": [
    {
      "cell_type": "markdown",
      "source": "# My Jupyter Notebook on IBM Watson Studio",
      "metadata": {}
    },
    {
      "cell_type": "markdown",
      "source": "**Yuliya Yunayeva.**  \nSenior system analyst",
      "metadata": {}
    },
    {
      "cell_type": "markdown",
      "source": "*I am interested in Data Science because I wanna make a good money.*",
      "metadata": {}
    },
    {
      "cell_type": "markdown",
      "source": "### In next line I want to thank you for checking my notebook.",
      "metadata": {}
    },
    {
      "cell_type": "code",
      "source": "a = \"Thank you\"\nprint(a)",
      "metadata": {
        "trusted": true
      },
      "execution_count": 1,
      "outputs": [
        {
          "name": "stdout",
          "text": "Thank you\n",
          "output_type": "stream"
        }
      ]
    },
    {
      "cell_type": "markdown",
      "source": "<a href =\"https://www.coursera.org/professional-certificates/ibm-data-science\"> Data Science course I want to pass</a> \n\n##### List of skills I want to have:\n- Python\n- Selenium\n- Java\n\n<img src=\"https://thumbs.dreamstime.com/z/thank-you-heart-smile-emoji-wooden-bokeh-light-background-125814550.jpg\">\n",
      "metadata": {}
    },
    {
      "cell_type": "code",
      "source": "",
      "metadata": {},
      "execution_count": null,
      "outputs": []
    }
  ]
}